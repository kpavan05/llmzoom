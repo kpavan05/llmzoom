{
 "cells": [
  {
   "cell_type": "code",
   "execution_count": 1,
   "id": "fd3b44cf-7d42-4e01-915b-bf0ad99aa8bb",
   "metadata": {},
   "outputs": [],
   "source": [
    "import os\n",
    "import groq\n",
    "from groq import Groq"
   ]
  },
  {
   "cell_type": "code",
   "execution_count": 3,
   "id": "ac8b079c-8c1e-4538-b5cd-2068dd157f1b",
   "metadata": {},
   "outputs": [],
   "source": [
    "client = Groq()"
   ]
  },
  {
   "cell_type": "code",
   "execution_count": 4,
   "id": "4449b73c-930e-4102-9bed-216f6c74bde9",
   "metadata": {},
   "outputs": [],
   "source": [
    "response=client.chat.completions.create(messages=[{\"role\":\"user\", \"content\":\"how is weather in austin?\"}], model=\"llama-3.3-70b-versatile\")"
   ]
  },
  {
   "cell_type": "code",
   "execution_count": null,
   "id": "9e5c037f-d6d7-4b29-a36f-cd0ae07336ad",
   "metadata": {},
   "outputs": [],
   "source": [
    "response.choices[0].message.content"
   ]
  },
  {
   "cell_type": "code",
   "execution_count": null,
   "id": "6046809c-fe18-4c00-ad04-fba048379cc5",
   "metadata": {},
   "outputs": [],
   "source": []
  }
 ],
 "metadata": {
  "kernelspec": {
   "display_name": "Python 3 (ipykernel)",
   "language": "python",
   "name": "python3"
  },
  "language_info": {
   "codemirror_mode": {
    "name": "ipython",
    "version": 3
   },
   "file_extension": ".py",
   "mimetype": "text/x-python",
   "name": "python",
   "nbconvert_exporter": "python",
   "pygments_lexer": "ipython3",
   "version": "3.13.2"
  }
 },
 "nbformat": 4,
 "nbformat_minor": 5
}
