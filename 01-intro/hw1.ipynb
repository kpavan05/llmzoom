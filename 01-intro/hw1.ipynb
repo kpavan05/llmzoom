{
 "cells": [
  {
   "cell_type": "code",
   "execution_count": 2,
   "id": "a7dacac1-9abc-4d8b-8cec-a10954b89c42",
   "metadata": {},
   "outputs": [],
   "source": [
    "import requests\n",
    "import groq\n",
    "from elasticsearch import Elasticsearch\n",
    "from tqdm.auto import tqdm\n",
    "from groq import Groq"
   ]
  },
  {
   "cell_type": "code",
   "execution_count": 5,
   "id": "715030b5-7ee1-4a54-a533-dbac2495d8b6",
   "metadata": {},
   "outputs": [],
   "source": [
    "docs_url = 'https://github.com/DataTalksClub/llm-zoomcamp/blob/main/01-intro/documents.json?raw=1'\n",
    "docs_response = requests.get(docs_url)\n",
    "documents_raw = docs_response.json()\n",
    "\n",
    "documents = []\n",
    "\n",
    "for course in documents_raw:\n",
    "    course_name = course['course']\n",
    "\n",
    "    for doc in course['documents']:\n",
    "        doc['course'] = course_name\n",
    "        documents.append(doc)"
   ]
  },
  {
   "cell_type": "code",
   "execution_count": 11,
   "id": "da95dab8-e7a9-48dd-935d-0fba09a89ecd",
   "metadata": {},
   "outputs": [],
   "source": [
    "def llm(prompt):\n",
    "    client= Groq()\n",
    "    response = client.chat.completions.create(model=\"llama-3.3-70b-versatile\", messages=[{'role':'user','content':prompt}])\n",
    "    return response.choices[0].message.content"
   ]
  },
  {
   "cell_type": "code",
   "execution_count": 32,
   "id": "5c016e4b-1f83-4e0e-933b-03368f84b82e",
   "metadata": {},
   "outputs": [
    {
     "data": {
      "text/plain": [
       "<Elasticsearch(['http://localhost:9200'])>"
      ]
     },
     "execution_count": 32,
     "metadata": {},
     "output_type": "execute_result"
    }
   ],
   "source": [
    "es_client = Elasticsearch(\"http://localhost:9200\")\n",
    "es_client"
   ]
  },
  {
   "cell_type": "code",
   "execution_count": 35,
   "id": "e6c06727-ba83-4936-a70c-56fc298658a0",
   "metadata": {},
   "outputs": [
    {
     "data": {
      "application/vnd.jupyter.widget-view+json": {
       "model_id": "6b05d7837ab7423283150f2dacb57a54",
       "version_major": 2,
       "version_minor": 0
      },
      "text/plain": [
       "  0%|          | 0/948 [00:00<?, ?it/s]"
      ]
     },
     "metadata": {},
     "output_type": "display_data"
    }
   ],
   "source": [
    "index_name ='pkkk3_hw1'\n",
    "index_setting ={\n",
    "    \"settings\": {\n",
    "        \"number_of_shards\": 1,\n",
    "        \"number_of_replicas\": 0\n",
    "    },\n",
    "    \"mappings\": {\n",
    "        \"properties\": {\n",
    "            \"text\": {\"type\": \"text\"},\n",
    "            \"section\": {\"type\": \"text\"},\n",
    "            \"question\": {\"type\": \"text\"},\n",
    "            \"course\": {\"type\": \"keyword\"} \n",
    "        }\n",
    "    }\n",
    "}    \n",
    "es_client.indices.create(index=index_name,body=index_setting)\n",
    "\n",
    "for doc in tqdm(documents):\n",
    "    es_client.index(index=index_name,document=doc)"
   ]
  },
  {
   "cell_type": "code",
   "execution_count": 51,
   "id": "62fceaae-bbd6-48ac-8e53-d907a858ade5",
   "metadata": {},
   "outputs": [],
   "source": [
    "def elastic_search(es_query, index_name, filtername):\n",
    "    search_query = {\n",
    "        \"size\": 5, # number of results returned by elastic search\n",
    "        \"query\": {\n",
    "            \"bool\": {\n",
    "                \"must\": {\n",
    "                    \"multi_match\": {\n",
    "                        \"query\": es_query,\n",
    "                        \"fields\": [\"question^4\", \"text\"], # this shows question field is give 3 times more weight than text and section\n",
    "                        \"type\": \"best_fields\"\n",
    "                    }\n",
    "                },\n",
    "                \"filter\": {\n",
    "                    \"term\": {\n",
    "                        \"course\": filtername  #this key value is same filter_dict of index function in minsearch\n",
    "                    }\n",
    "                }\n",
    "            }\n",
    "        }\n",
    "    }\n",
    "\n",
    "    response = es_client.search(index=index_name, body=search_query)\n",
    "    #print(response)\n",
    "    result_docs =[]\n",
    "    result_scores=[]\n",
    "    for hit in response['hits']['hits']:\n",
    "        result_docs.append(hit['_source'])\n",
    "        result_scores.append(hit['_score'])\n",
    "\n",
    "    print('length of results:{0}'.format(len(result_scores)))\n",
    "    return result_docs, result_scores"
   ]
  },
  {
   "cell_type": "code",
   "execution_count": 39,
   "id": "9cb9d1f8-2c86-4cb2-b076-235dca7c1892",
   "metadata": {},
   "outputs": [],
   "source": [
    "def rag_elastic(es_query, index_name):\n",
    "    search_results, score_results = elastic_search(es_query, index_name)\n",
    "    prompt = build_prompt(es_query, search_results)\n",
    "    answer = llm(prompt)\n",
    "    return answer"
   ]
  },
  {
   "cell_type": "code",
   "execution_count": 41,
   "id": "afae7658-681a-426a-bd10-85fe9772c5e8",
   "metadata": {},
   "outputs": [
    {
     "name": "stdout",
     "output_type": "stream",
     "text": [
      "length of results:5\n",
      "[44.50556, 35.433445, 33.70974, 33.2635, 32.589073]\n"
     ]
    }
   ],
   "source": [
    "es_query= \"How do execute a command on a Kubernetes pod?\"\n",
    "search_results, score_results = elastic_search(es_query, index_name,\"\")\n",
    "print(score_results)"
   ]
  },
  {
   "cell_type": "code",
   "execution_count": 45,
   "id": "a937d2f3-e24c-4db5-abee-e012550a0ff4",
   "metadata": {},
   "outputs": [
    {
     "name": "stdout",
     "output_type": "stream",
     "text": [
      "length of results:5\n",
      "How do I copy files from a different folder into docker container’s working directory?\n",
      "[73.38676, 66.688705, 59.812744, 53.622295, 43.647385]\n"
     ]
    }
   ],
   "source": [
    "es_query= \"How do copy a file to a Docker container?\"\n",
    "search_results, score_results = elastic_search(es_query, index_name,'machine-learning-zoomcamp')\n",
    "print(search_results[2]['question'])\n",
    "print(score_results)"
   ]
  },
  {
   "cell_type": "code",
   "execution_count": 65,
   "id": "9ae4440d-78b4-4a38-87e3-468ae0035276",
   "metadata": {},
   "outputs": [
    {
     "name": "stdout",
     "output_type": "stream",
     "text": [
      "length of results:5\n",
      "[84.050095, 51.04628, 49.938507, 45.275463, 45.255775]\n",
      "2705\n"
     ]
    }
   ],
   "source": [
    "es_query=\"How do I execute a command in a running docker container?\"\n",
    "search_results, score_results = elastic_search(es_query, index_name,'machine-learning-zoomcamp')\n",
    "print(score_results)\n",
    "\n",
    "prompt_template = \"\"\"\n",
    "You're a course teaching assistant. Answer the QUESTION based on the CONTEXT from the FAQ database. \n",
    "Use only the facts from CONTEXT for answering QUESTION.\n",
    "                    \n",
    "QUESTION:{question}\n",
    "\n",
    "CONTEXT:\n",
    "{context}\n",
    "\"\"\".strip()\n",
    "\n",
    "context_template=\"\"\"\n",
    "Q: {question}\n",
    "A: {text}\n",
    "\"\"\".strip()\n",
    "\n",
    "context= \"\"\n",
    "for doc in search_results:\n",
    "    context = context + context_template.format(question=doc['question'],text=doc['text']).strip()\n",
    "    context = context + \"\\n\\n\"\n",
    "    \n",
    "prompt = prompt_template.format(question=es_query, context=context).strip()\n",
    "print(len(prompt))"
   ]
  },
  {
   "cell_type": "code",
   "execution_count": 66,
   "id": "8ce8bedc-4fea-42f9-8788-c0522caee01e",
   "metadata": {},
   "outputs": [
    {
     "name": "stdout",
     "output_type": "stream",
     "text": [
      "To execute a command in a running Docker container, you need to follow these steps:\n",
      "\n",
      "1. Find the container-id by running the command `docker ps`.\n",
      "2. Use the `docker exec` command to execute a command in the container. The basic syntax is `docker exec -it <container-id> bash`.\n",
      "\n",
      "For example: \n",
      "`docker exec -it <container-id> bash`\n",
      "\n",
      "This will allow you to execute commands inside the running Docker container.\n"
     ]
    }
   ],
   "source": [
    "answer=llm(prompt)\n",
    "print(answer)"
   ]
  },
  {
   "cell_type": "code",
   "execution_count": 67,
   "id": "8a1fe63c-b4b2-4e52-bfc9-2bfbc08fd08e",
   "metadata": {},
   "outputs": [],
   "source": [
    "import tiktoken"
   ]
  },
  {
   "cell_type": "code",
   "execution_count": 74,
   "id": "d11dac79-bfdb-4fb1-8991-c84b42409c87",
   "metadata": {},
   "outputs": [
    {
     "name": "stdout",
     "output_type": "stream",
     "text": [
      "620\n"
     ]
    }
   ],
   "source": [
    "encoding = tiktoken.encoding_for_model(\"gpt-4o\")\n",
    "print(len(encoding.encode(prompt)))\n",
    "#encoding =tiktoken.encoding_for_model(\"llama-3.3-70b-versatile\")"
   ]
  },
  {
   "cell_type": "code",
   "execution_count": 75,
   "id": "25652dd7-e62d-4b84-ba7f-13680666d21a",
   "metadata": {},
   "outputs": [
    {
     "data": {
      "text/plain": [
       "b\"You're\""
      ]
     },
     "execution_count": 75,
     "metadata": {},
     "output_type": "execute_result"
    }
   ],
   "source": [
    "encoding.decode_single_token_bytes(63842)"
   ]
  },
  {
   "cell_type": "code",
   "execution_count": null,
   "id": "952e2e7e-3e15-41f7-b20b-0da4ca7bad1c",
   "metadata": {},
   "outputs": [],
   "source": []
  }
 ],
 "metadata": {
  "kernelspec": {
   "display_name": "Python 3 (ipykernel)",
   "language": "python",
   "name": "python3"
  },
  "language_info": {
   "codemirror_mode": {
    "name": "ipython",
    "version": 3
   },
   "file_extension": ".py",
   "mimetype": "text/x-python",
   "name": "python",
   "nbconvert_exporter": "python",
   "pygments_lexer": "ipython3",
   "version": "3.13.2"
  }
 },
 "nbformat": 4,
 "nbformat_minor": 5
}
