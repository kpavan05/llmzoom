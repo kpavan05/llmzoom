{
 "cells": [
  {
   "cell_type": "code",
   "execution_count": 3,
   "id": "d6d0c118-919d-400a-b094-9440ad10712d",
   "metadata": {},
   "outputs": [],
   "source": [
    "import minsearch\n",
    "import json"
   ]
  },
  {
   "cell_type": "code",
   "execution_count": 4,
   "id": "c989b2fc-e41a-49b3-86c4-590131304ccb",
   "metadata": {},
   "outputs": [],
   "source": [
    "with open('documents.json', 'rt') as f:\n",
    "    docs_raw = json.load(f)"
   ]
  },
  {
   "cell_type": "code",
   "execution_count": 5,
   "id": "ea0dd145-daa9-4c4f-9221-a0f3eb1b92d0",
   "metadata": {},
   "outputs": [
    {
     "data": {
      "text/plain": [
       "{'text': \"The purpose of this document is to capture frequently asked technical questions\\nThe exact day and hour of the course will be 15th Jan 2024 at 17h00. The course will start with the first  “Office Hours'' live.1\\nSubscribe to course public Google Calendar (it works from Desktop only).\\nRegister before the course starts using this link.\\nJoin the course Telegram channel with announcements.\\nDon’t forget to register in DataTalks.Club's Slack and join the channel.\",\n",
       " 'section': 'General course-related questions',\n",
       " 'question': 'Course - When will the course start?',\n",
       " 'course': 'data-engineering-zoomcamp'}"
      ]
     },
     "execution_count": 5,
     "metadata": {},
     "output_type": "execute_result"
    }
   ],
   "source": [
    "documents = []\n",
    "# traverse the dictionary\n",
    "for course_dict in docs_raw:\n",
    "    # get all elements with key as \"documents\"\n",
    "    for doc in course_dict['documents']:\n",
    "        doc['course'] = course_dict['course']\n",
    "        documents.append(doc)\n",
    "documents[0]      "
   ]
  },
  {
   "cell_type": "code",
   "execution_count": 6,
   "id": "2faf9a4b-cf30-45fb-b35b-56cbae258f0b",
   "metadata": {},
   "outputs": [],
   "source": [
    "index = minsearch.Index(text_fields=[\"question\", \"section\", \"text\"], keyword_fields=['course'])"
   ]
  },
  {
   "cell_type": "code",
   "execution_count": 7,
   "id": "3f7275e3-aa8a-40d7-abc3-6a9c78ac3555",
   "metadata": {},
   "outputs": [
    {
     "data": {
      "text/plain": [
       "<minsearch.Index at 0x7d9be0c0f230>"
      ]
     },
     "execution_count": 7,
     "metadata": {},
     "output_type": "execute_result"
    }
   ],
   "source": [
    "index.fit(documents)"
   ]
  },
  {
   "cell_type": "code",
   "execution_count": 8,
   "id": "19ed7443-035d-4946-ad77-7f5752664772",
   "metadata": {},
   "outputs": [],
   "source": [
    "#query for which we want to get answer for\n",
    "q = 'the course has started, can i still enroll'\n",
    "# give importance for specified fields\n",
    "boost ={'question': 3.0, 'section':0.5}\n",
    "results = index.search(query = q, \n",
    "                       filter_dict={'course':'data-engineering-zoomcamp'},\n",
    "                       boost_dict=boost,\n",
    "                       num_results=5)"
   ]
  },
  {
   "cell_type": "code",
   "execution_count": 9,
   "id": "d1ce05aa-9e48-4078-bb3e-f07e80ef254c",
   "metadata": {},
   "outputs": [],
   "source": [
    "from groq import Groq\n",
    "import os"
   ]
  },
  {
   "cell_type": "code",
   "execution_count": 10,
   "id": "39fec9c1-d7aa-4226-8e10-f8015fa9a301",
   "metadata": {},
   "outputs": [],
   "source": [
    "client = Groq()"
   ]
  },
  {
   "cell_type": "code",
   "execution_count": 11,
   "id": "69c91efb-d214-4d10-b9d7-cf0998495af3",
   "metadata": {},
   "outputs": [],
   "source": [
    "#query\n",
    "q = 'the course has started, can i still enroll?'\n",
    "response = client.chat.completions.create(model=\"llama-3.3-70b-versatile\",\n",
    "                                          messages=[ { 'role':'user', 'content': q }])"
   ]
  },
  {
   "cell_type": "code",
   "execution_count": 12,
   "id": "2aa35d70-8eb5-48fd-a7e2-3f3c1ac115d5",
   "metadata": {},
   "outputs": [],
   "source": [
    "#print(response.choices[0].message.content)"
   ]
  },
  {
   "cell_type": "code",
   "execution_count": 13,
   "id": "ff6eb5e3-2560-4956-924b-2aae0378834b",
   "metadata": {},
   "outputs": [],
   "source": [
    "prompt_template = \"\"\"\n",
    "You are a teaching assistant. Answer the QUESTION based on CONTEXT. \n",
    "Use only the facts from CONTEXT for answering QUESTION\n",
    "If the CONTEXT does not contain the answer, output NONE\n",
    "QUESTION:{question}\n",
    "CONTEXT:{context}\n",
    "\"\"\".strip()"
   ]
  },
  {
   "cell_type": "code",
   "execution_count": 14,
   "id": "aebd8d70-d705-45e9-8d33-9fc406d5236b",
   "metadata": {},
   "outputs": [],
   "source": [
    "context= \"\"\n",
    "\n",
    "for doc in results:\n",
    "    context = context + f\"section: {doc['section']}\\nquestion: {doc['question']}\\nanswer:{doc['text']}\\n\\n\""
   ]
  },
  {
   "cell_type": "code",
   "execution_count": 15,
   "id": "81095829-215a-4618-b4dc-77c67fd0468b",
   "metadata": {},
   "outputs": [],
   "source": [
    "prompt = prompt_template.format(question=q, context=context).strip()"
   ]
  },
  {
   "cell_type": "code",
   "execution_count": 16,
   "id": "b1c5e628-2bea-4aa7-a1a0-bb67876661dc",
   "metadata": {},
   "outputs": [],
   "source": [
    "response = client.chat.completions.create(model=\"llama-3.3-70b-versatile\", messages=[{'role':'user','content':prompt}])"
   ]
  },
  {
   "cell_type": "code",
   "execution_count": 17,
   "id": "e61c674b-ba87-4064-b5ed-b7e7e8cc7c99",
   "metadata": {},
   "outputs": [
    {
     "name": "stdout",
     "output_type": "stream",
     "text": [
      "Yes, even if you don't register, you're still eligible to submit the homeworks.\n"
     ]
    }
   ],
   "source": [
    "print(response.choices[0].message.content)"
   ]
  },
  {
   "cell_type": "code",
   "execution_count": 18,
   "id": "46b0ebb9-3679-479b-bd02-9459039d241d",
   "metadata": {},
   "outputs": [],
   "source": [
    "## Putting all the functionality in functions to add structure"
   ]
  },
  {
   "cell_type": "code",
   "execution_count": 19,
   "id": "0dd89d97-3a1d-40e2-85d9-c7c131faadb7",
   "metadata": {},
   "outputs": [],
   "source": [
    "def search(query):\n",
    "    boost ={'question': 3.0, 'section':0.5}\n",
    "    results = index.search(query = query, \n",
    "                       filter_dict={'course':'data-engineering-zoomcamp'},\n",
    "                       boost_dict=boost,\n",
    "                       num_results=5)\n",
    "\n",
    "    return results"
   ]
  },
  {
   "cell_type": "code",
   "execution_count": 20,
   "id": "00a4d5b4-671c-4834-a964-785b11a5b2b3",
   "metadata": {},
   "outputs": [],
   "source": [
    "def build_prompt(query, search_results):\n",
    "    prompt_template = \"\"\"\n",
    "                    You are a teaching assistant. Answer the QUESTION based on CONTEXT. \n",
    "                    Use only the facts from CONTEXT for answering QUESTION\n",
    "                    If the CONTEXT does not contain the answer, output NONE\n",
    "                    QUESTION:{question}\n",
    "                    CONTEXT:{context}\n",
    "                    \"\"\".strip()\n",
    "\n",
    "    context= \"\"\n",
    "    for doc in search_results:\n",
    "        context = context + f\"section: {doc['section']}\\nquestion: {doc['question']}\\nanswer:{doc['text']}\\n\\n\"\n",
    "        \n",
    "    prompt = prompt_template.format(question=query, context=context).strip()\n",
    "    return prompt"
   ]
  },
  {
   "cell_type": "code",
   "execution_count": 21,
   "id": "d52556dc-f2e6-48c0-a01b-e01f4619d619",
   "metadata": {},
   "outputs": [],
   "source": [
    "def llm(prompt):\n",
    "    client= Groq()\n",
    "    response = client.chat.completions.create(model=\"llama-3.3-70b-versatile\", messages=[{'role':'user','content':prompt}])\n",
    "    return response.choices[0].message.content"
   ]
  },
  {
   "cell_type": "code",
   "execution_count": 22,
   "id": "57c52f23-f56e-49fa-98f9-3aacf52f5e26",
   "metadata": {},
   "outputs": [
    {
     "data": {
      "text/plain": [
       "\"To run Kafka, the context provides the following information:\\n\\n1. For Java Kafka: In the project directory, run `java -cp build/libs/<jar_name>-1.0-SNAPSHOT.jar:out src/main/java/org/example/JsonProducer.java`\\n2. For Python Kafka: Create a virtual environment, install requirements.txt, and run the python files in that environment. \\n\\nHowever, these are specific to running the producer or other components, not the general process of running Kafka itself. For general Kafka setup and running, there's no information provided in the context. \\n\\nTherefore, based on the context provided, the answer is: NONE\""
      ]
     },
     "execution_count": 22,
     "metadata": {},
     "output_type": "execute_result"
    }
   ],
   "source": [
    "def rag_minisearch(query):\n",
    "    search_results = search(query)\n",
    "    prompt = build_prompt(query, search_results)\n",
    "    answer = llm(prompt)\n",
    "    return answer\n",
    "\n",
    "query = \"how do i run kafka?\"\n",
    "rag_minisearch(query)"
   ]
  },
  {
   "cell_type": "code",
   "execution_count": 23,
   "id": "8ed85a1d-97cf-49f6-8674-7313fbe1a819",
   "metadata": {},
   "outputs": [],
   "source": [
    "## Elastic search"
   ]
  },
  {
   "cell_type": "code",
   "execution_count": 24,
   "id": "78dd96ad-4f1d-49d4-9e48-8b53135c58e4",
   "metadata": {},
   "outputs": [],
   "source": [
    "from elasticsearch import Elasticsearch\n",
    "from tqdm.auto import tqdm"
   ]
  },
  {
   "cell_type": "code",
   "execution_count": null,
   "id": "721f1172-c1a9-4d8b-a3e5-93b185afc161",
   "metadata": {},
   "outputs": [],
   "source": [
    "es_client = Elasticsearch('http://localhost:9200')\n",
    "index_name ='course-questions'\n",
    "    \n",
    "for doc in tqdm(documents):\n",
    "    es_client.index(index=index_name,document=doc)\n",
    "    \n",
    "index_setting ={\n",
    "    \"settings\": {\n",
    "        \"number_of_shards\": 1,\n",
    "        \"number_of_replicas\": 0\n",
    "    },\n",
    "    \"mappings\": {\n",
    "        \"properties\": {\n",
    "            \"text\": {\"type\": \"text\"},\n",
    "            \"section\": {\"type\": \"text\"},\n",
    "            \"question\": {\"type\": \"text\"},\n",
    "            \"course\": {\"type\": \"keyword\"} \n",
    "        }\n",
    "    }\n",
    "}\n",
    "    \n",
    "es_client.indices.create(index=index_name,body=index_setting)"
   ]
  },
  {
   "cell_type": "code",
   "execution_count": 29,
   "id": "dc4a984c-351b-4af0-9a2e-fb9fbb9535c6",
   "metadata": {},
   "outputs": [],
   "source": [
    "def elastic_search(es_query):\n",
    "   \n",
    "    search_query = {\n",
    "        \"size\": 5, # number of results returned by elastic search\n",
    "        \"query\": {\n",
    "            \"bool\": {\n",
    "                \"must\": {\n",
    "                    \"multi_match\": {\n",
    "                        \"query\": es_query,\n",
    "                        \"fields\": [\"question^3\", \"text\", \"section\"], # this shows question field is give 3 times more weight than text and section\n",
    "                        \"type\": \"best_fields\"\n",
    "                    }\n",
    "                },\n",
    "                \"filter\": {\n",
    "                    \"term\": {\n",
    "                        \"course\": \"data-engineering-zoomcamp\"  #this key value is same filter_dict of index function in minsearch\n",
    "                    }\n",
    "                }\n",
    "            }\n",
    "        }\n",
    "    }\n",
    "\n",
    "    response = es_client.search(index=index_name, body=search_query)\n",
    "    result_docs =[]\n",
    "    for hit in response['hits']['hits']:\n",
    "        result_docs.append(hit['_source'])\n",
    "\n",
    "    return result_docs"
   ]
  },
  {
   "cell_type": "code",
   "execution_count": 30,
   "id": "5ffb3912-b5aa-4c74-8b8e-91886990449b",
   "metadata": {},
   "outputs": [],
   "source": [
    "def rag_elastic(es_query):\n",
    "    search_results = elastic_search(es_query)\n",
    "    prompt = build_prompt(es_query, search_results)\n",
    "    answer = llm(prompt)\n",
    "    return answer\n",
    "    "
   ]
  },
  {
   "cell_type": "code",
   "execution_count": 31,
   "id": "0149ebcc-ca84-4c37-9a25-9a1019636315",
   "metadata": {},
   "outputs": [
    {
     "data": {
      "text/plain": [
       "\"Yes, even if you don't register, you're still eligible to submit the homeworks. Be aware, however, that there will be deadlines for turning in the final projects. So don't leave everything for the last minute.\""
      ]
     },
     "execution_count": 31,
     "metadata": {},
     "output_type": "execute_result"
    }
   ],
   "source": [
    "es_query='I just discovered about the course, can i still join?'\n",
    "rag_elastic(es_query)"
   ]
  },
  {
   "cell_type": "code",
   "execution_count": null,
   "id": "3dbce6f6-2baa-4ada-af0d-26b0144b0a75",
   "metadata": {},
   "outputs": [],
   "source": []
  }
 ],
 "metadata": {
  "kernelspec": {
   "display_name": "Python 3 (ipykernel)",
   "language": "python",
   "name": "python3"
  },
  "language_info": {
   "codemirror_mode": {
    "name": "ipython",
    "version": 3
   },
   "file_extension": ".py",
   "mimetype": "text/x-python",
   "name": "python",
   "nbconvert_exporter": "python",
   "pygments_lexer": "ipython3",
   "version": "3.13.2"
  }
 },
 "nbformat": 4,
 "nbformat_minor": 5
}
